{
 "cells": [
  {
   "cell_type": "code",
   "execution_count": 13,
   "id": "5c19c634-5abe-4006-b019-bef9827153be",
   "metadata": {},
   "outputs": [
    {
     "name": "stdout",
     "output_type": "stream",
     "text": [
      "-5\n",
      "3.0\n"
     ]
    }
   ],
   "source": [
    "def sum_list(items):\n",
    "    sum_numbers = 0\n",
    "    for x in items:\n",
    "        sum_numbers+=x\n",
    "    return sum_numbers\n",
    "print(sum_list([1,2,-8]))\n",
    "\n",
    "#mean of list element\n",
    "\n",
    "list1 = [1,2,3,4,5]\n",
    "mean = sum(list1)/len(list1)\n",
    "print(mean)\n",
    "\n"
   ]
  },
  {
   "cell_type": "code",
   "execution_count": 28,
   "id": "361f1086-a75e-4c08-b340-5817fbcdce2b",
   "metadata": {},
   "outputs": [
    {
     "name": "stdout",
     "output_type": "stream",
     "text": [
      "median is : 3.5\n"
     ]
    }
   ],
   "source": [
    "#median of elements\n",
    "list1 = [1,2,3,4,5,4]\n",
    "median = 0\n",
    "l = len(list1)\n",
    "if l % 2 == 0:\n",
    "     median1 = list1[l//2]\n",
    "     median2 = list1[l//2 - 1]\n",
    "     median = (median1 + median2)/2\n",
    "else: \n",
    "    median = list1[l//2]\n",
    "print(\"median is :\", str(median))"
   ]
  },
  {
   "cell_type": "code",
   "execution_count": 44,
   "id": "a141e203-82a0-46ce-9f11-308427558f44",
   "metadata": {},
   "outputs": [
    {
     "name": "stdout",
     "output_type": "stream",
     "text": [
      "{1, 2, 3, 4, 5, 6, 7, 8}\n",
      "(1, 2, 3, 4, 5, 6, 7, 8)\n",
      "6\n",
      "(2, 4, 6, 8)\n",
      "(8, 7, 6, 5, 4, 3, 2, 1)\n"
     ]
    }
   ],
   "source": [
    "t = (1,2,3,4)\n",
    "t1 = (5,6,7,8)\n",
    "t2 = t + t1\n",
    "set1 = {8, 7, 6, 5, 4, 3, 2, 1}\n",
    "print(set1)\n",
    "print(t2)\n",
    "print(t2.index(7))\n",
    "print(t2[1::2])\n",
    "print(t2[::-1])"
   ]
  },
  {
   "cell_type": "code",
   "execution_count": 26,
   "id": "7c765f8b-0d0c-4a67-858e-e7d810167996",
   "metadata": {},
   "outputs": [
    {
     "name": "stdout",
     "output_type": "stream",
     "text": [
      "[(0, 4), (1, 5)]\n"
     ]
    }
   ],
   "source": [
    "def unzip_tuples(tupsList):\n",
    "    newList = []\n",
    "    newTup = ()\n",
    "    secondTup = ()\n",
    "    for tup in tupsList:\n",
    "       newTup = newTup + tup[0:1]\n",
    "       secondTup = secondTup + tup[1:2]\n",
    "       newList.append(newTup)\n",
    "       newList.append(secondTup)\n",
    "    print(newList[2:])    \n",
    "unzip_tuples([(0,1,2),(4,5,6)])  "
   ]
  },
  {
   "cell_type": "code",
   "execution_count": null,
   "id": "e3501266-d630-45e3-aadb-1626a3579433",
   "metadata": {},
   "outputs": [],
   "source": []
  },
  {
   "cell_type": "code",
   "execution_count": null,
   "id": "d1a33537-1334-46be-8500-d5ac1906650a",
   "metadata": {},
   "outputs": [],
   "source": []
  },
  {
   "cell_type": "code",
   "execution_count": null,
   "id": "68c7c117-7e7a-49b4-a5e7-47fc71d6a10e",
   "metadata": {},
   "outputs": [],
   "source": []
  }
 ],
 "metadata": {
  "kernelspec": {
   "display_name": "Python 3 (ipykernel)",
   "language": "python",
   "name": "python3"
  },
  "language_info": {
   "codemirror_mode": {
    "name": "ipython",
    "version": 3
   },
   "file_extension": ".py",
   "mimetype": "text/x-python",
   "name": "python",
   "nbconvert_exporter": "python",
   "pygments_lexer": "ipython3",
   "version": "3.11.7"
  }
 },
 "nbformat": 4,
 "nbformat_minor": 5
}
