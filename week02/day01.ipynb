{
 "cells": [
  {
   "cell_type": "code",
   "execution_count": 62,
   "id": "48ff602f-a190-4b0f-a18f-0d516ce288d6",
   "metadata": {},
   "outputs": [
    {
     "name": "stdout",
     "output_type": "stream",
     "text": [
      "[4, '2']\n",
      "[1, 'Ahmed', 12, 1.5]\n",
      "['one', 'two', 'tree', 'four', 'zero', 1, 'Ahmed', 12, 1.5]\n",
      "['A', 'B', 'F']\n",
      "['Heloo,', 'from', 'there', 'my', 'name', 'is', 'Muhammad', 'Noman']\n",
      "[1, 125, 216, 4096, 343, 0]\n"
     ]
    },
    {
     "name": "stdin",
     "output_type": "stream",
     "text": [
      "enter the number to find 125\n"
     ]
    }
   ],
   "source": [
    "#built in functions\n",
    "list1 = []\n",
    "list2 = ['one','two','tree','four','zero']\n",
    "list3 = [[1,2], [3,4]]\n",
    "list4 = [1, 'Ahmed','Ahmed',12,1.5]\n",
    "\n",
    "list1.append('2')\n",
    "#listName.insert(location, value)\n",
    "list1.insert(0,4)\n",
    "print(list1)\n",
    "list4.remove('Ahmed')\n",
    "print(list4)\n",
    "#when use extend it will add the values in the list not as sub list \n",
    "list2.extend(list4)\n",
    "print(list2)\n",
    "\n",
    "numbersList = [1,5,6,16,7,0]\n",
    "alphaList = ['B','F','A']\n",
    "\n",
    "sortList = sorted(alphaList)\n",
    "\n",
    "print(sortList)\n",
    "\n",
    "newString = \"Heloo, from there my name is Muhammad Noman\"\n",
    "spl = newString.split(\" \")\n",
    "\n",
    "print(spl)\n",
    "newList = []\n",
    "for num in numbersList:\n",
    "  square = num * num * num\n",
    "  newList.append(square)\n",
    "\n",
    "print(newList)\n",
    "newNumber = int(input(\"enter the number to find\"))\n",
    "for num in numbersList:\n",
    "    if newNumber == num:\n",
    "     print(\"number is found at\" )\n",
    "\n",
    "\n",
    "    "
   ]
  },
  {
   "cell_type": "code",
   "execution_count": null,
   "id": "f2ae093f-db03-489f-bbe1-b45902eea24c",
   "metadata": {},
   "outputs": [],
   "source": []
  },
  {
   "cell_type": "code",
   "execution_count": null,
   "id": "bcd981dd-b3cb-4ae0-83bc-d84ba12a67fa",
   "metadata": {},
   "outputs": [],
   "source": []
  },
  {
   "cell_type": "code",
   "execution_count": null,
   "id": "e3d0eefc-83dc-4a1e-88cc-3eb5023228c8",
   "metadata": {},
   "outputs": [],
   "source": []
  },
  {
   "cell_type": "code",
   "execution_count": null,
   "id": "91178cde-2c96-4f02-ae2e-5bea11e15d3b",
   "metadata": {},
   "outputs": [],
   "source": []
  }
 ],
 "metadata": {
  "kernelspec": {
   "display_name": "Python 3 (ipykernel)",
   "language": "python",
   "name": "python3"
  },
  "language_info": {
   "codemirror_mode": {
    "name": "ipython",
    "version": 3
   },
   "file_extension": ".py",
   "mimetype": "text/x-python",
   "name": "python",
   "nbconvert_exporter": "python",
   "pygments_lexer": "ipython3",
   "version": "3.11.7"
  }
 },
 "nbformat": 4,
 "nbformat_minor": 5
}
