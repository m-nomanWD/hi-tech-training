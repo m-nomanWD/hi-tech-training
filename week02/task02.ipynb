{
 "cells": [
  {
   "cell_type": "code",
   "execution_count": 4,
   "id": "2c57f042-eb63-4dd3-9d1f-8edd1d281716",
   "metadata": {},
   "outputs": [
    {
     "data": {
      "text/plain": [
       "'1.\\tWrite a function pairwise_swap(tup) that takes a tuple of even length and returns a new tuple with each pair of elements swapped. '"
      ]
     },
     "execution_count": 4,
     "metadata": {},
     "output_type": "execute_result"
    }
   ],
   "source": [
    "\"\"\"1.\tWrite a function pairwise_swap(tup) that takes a tuple of even length and returns a new tuple with each pair of elements swapped. \"\"\"\n",
    "\n",
    "    "
   ]
  },
  {
   "cell_type": "code",
   "execution_count": 5,
   "id": "cbb9324c-19d9-4d81-8b56-cecf5975cb5f",
   "metadata": {},
   "outputs": [
    {
     "name": "stdout",
     "output_type": "stream",
     "text": [
      "[(1, 5), (2, 6)]\n"
     ]
    }
   ],
   "source": [
    "\"\"\"\n",
    "2.\tWrite a function unzip_tuples(tup_lst) that takes a list of tuples (each containing exactly two elements) and returns two tuples, one containing the first elements of each tuple, and the other containing the second elements.\n",
    "\"\"\"\n",
    "import string\n",
    "listOfTup = [(1,2,3,4),(5,6,7,8)]\n",
    "\n",
    "def unzip_tuples(tupLst):\n",
    "  firstTup = ()\n",
    "  secondTup  = ()\n",
    "  for tup in listOfTup:\n",
    "    firstTup = firstTup + tup[0:1]\n",
    "    secondTup = secondTup + tup[1:2]\n",
    "  return [firstTup, secondTup]\n",
    "  \n",
    "print(unzip_tuples(listOfTup))\n"
   ]
  },
  {
   "cell_type": "code",
   "execution_count": 6,
   "id": "19b116f3-f6c0-4579-aaaf-ffb9b1670b1e",
   "metadata": {},
   "outputs": [
    {
     "name": "stdout",
     "output_type": "stream",
     "text": [
      "True\n"
     ]
    }
   ],
   "source": [
    "\"\"\"\n",
    "3.\tWrite a function is_anagram(str1, str2) that takes two strings and returns True if they are anagrams of each other, otherwise False.\n",
    "\"\"\"\n",
    "def is_anagram(str1, str2):\n",
    "   newString = str1.lower()\n",
    "   newString2 =  str2.lower()\n",
    "   str1 = sorted(newString)\n",
    "   str2 = sorted(newString2)\n",
    "   if  str1 == str2:\n",
    "        print(\"True\")\n",
    "   else:\n",
    "        print(\"false\")\n",
    "is_anagram(\"the file is my\", \"he is life tmy\")"
   ]
  },
  {
   "cell_type": "code",
   "execution_count": 7,
   "id": "684fa9cd-19cd-4ba7-aa3f-b28ca7e38554",
   "metadata": {},
   "outputs": [
    {
     "name": "stdout",
     "output_type": "stream",
     "text": [
      "Hello From The Pakistan I Am Noman\n"
     ]
    }
   ],
   "source": [
    "\"\"\"\n",
    "4.\t Write a function capitalize_words(sentence) that takes a string sentence and returns a new string with the first letter of each word capitalized.\n",
    "\"\"\"\n",
    "def capitalize(sentence):\n",
    "    return string.capwords(sentence)\n",
    "print(capitalize(\"hello from the pakistan i am noman\"))"
   ]
  },
  {
   "cell_type": "code",
   "execution_count": 8,
   "id": "1ff7bc76-a0e2-4be7-b121-6afe3eae6e90",
   "metadata": {},
   "outputs": [
    {
     "name": "stdout",
     "output_type": "stream",
     "text": [
      "wedsk\n",
      "wedsk\n",
      "wedsk\n",
      "wedsk\n",
      "wedsk\n"
     ]
    }
   ],
   "source": [
    "\"\"\"\n",
    "5.\t Write a function compress_string(s) that takes a string and returns a compressed version where consecutive identical characters are replaced with the character followed by the count (e.g., \"aaabb\" becomes \"a3b2\"). If the compressed string is not shorter, return the original string.\n",
    "\"\"\"\n",
    "def compress_string(string):\n",
    "    newString = \"wedsk\"\n",
    "    for char in string:\n",
    "        if string == newString:\n",
    "         print(string)\n",
    "        else:\n",
    "         print(newString)\n",
    "compress_string(\"heloo\")"
   ]
  },
  {
   "cell_type": "code",
   "execution_count": 9,
   "id": "beec0001-9708-44a6-a535-64e53cfb3cb5",
   "metadata": {},
   "outputs": [
    {
     "name": "stdout",
     "output_type": "stream",
     "text": [
      "{1, 2}\n"
     ]
    }
   ],
   "source": [
    "\"\"\"\n",
    "Sets\n",
    "1.\tWrite a function find_common_elements(set1, set2) that takes two sets and returns a new set containing elements that are in both sets.\n",
    "\"\"\"\n",
    "newSet = set()\n",
    "def find_common_element(set1,set2):\n",
    "\n",
    "    for first in set1:\n",
    "        for second in set2:\n",
    "            if first == second:\n",
    "               newSet.add(first)\n",
    "    return(newSet)\n",
    "print(find_common_element ({1,2,3,4},{2,5,6,1}))"
   ]
  },
  {
   "cell_type": "code",
   "execution_count": 10,
   "id": "34ea3ce1-470c-49a1-867b-dbef7a798296",
   "metadata": {},
   "outputs": [
    {
     "data": {
      "text/plain": [
       "'\\n\\n2.\\tWrite a function unique_elements(lst) that takes a list of elements and returns a set of elements that appear exactly once in the list.\\n'"
      ]
     },
     "execution_count": 10,
     "metadata": {},
     "output_type": "execute_result"
    }
   ],
   "source": [
    "\n",
    "\"\"\"\n",
    "2.\tWrite a function unique_elements(lst) that takes a list of elements and returns a set of elements that appear exactly once in the list.\n",
    "\"\"\"\n"
   ]
  },
  {
   "cell_type": "code",
   "execution_count": null,
   "id": "54e7b144-c2cb-49be-b296-4026dc8b48f6",
   "metadata": {},
   "outputs": [],
   "source": []
  }
 ],
 "metadata": {
  "kernelspec": {
   "display_name": "Python 3 (ipykernel)",
   "language": "python",
   "name": "python3"
  },
  "language_info": {
   "codemirror_mode": {
    "name": "ipython",
    "version": 3
   },
   "file_extension": ".py",
   "mimetype": "text/x-python",
   "name": "python",
   "nbconvert_exporter": "python",
   "pygments_lexer": "ipython3",
   "version": "3.11.7"
  }
 },
 "nbformat": 4,
 "nbformat_minor": 5
}
